{
 "cells": [
  {
   "cell_type": "code",
   "execution_count": 7,
   "id": "30ddbe86",
   "metadata": {},
   "outputs": [
    {
     "name": "stdout",
     "output_type": "stream",
     "text": [
      "10 Harish 10.0011 False\n"
     ]
    }
   ],
   "source": [
    "a = 10\n",
    "b = \"Harish\"\n",
    "c = 10.0011\n",
    "d = False\n",
    "\n",
    "print(a,b,c,d)"
   ]
  },
  {
   "cell_type": "code",
   "execution_count": 8,
   "id": "02be0761",
   "metadata": {},
   "outputs": [
    {
     "name": "stdout",
     "output_type": "stream",
     "text": [
      "Dushyant\n"
     ]
    }
   ],
   "source": [
    "b = \"Dushyant\"\n",
    "print(b)"
   ]
  },
  {
   "cell_type": "code",
   "execution_count": 9,
   "id": "2b38b326",
   "metadata": {},
   "outputs": [
    {
     "name": "stdout",
     "output_type": "stream",
     "text": [
      "Eric\n",
      "Hello Eric, would you like to learn some Python today\n"
     ]
    }
   ],
   "source": [
    "X= \"Eric\"\n",
    "print(X)\n",
    "print(\"Hello Eric, would you like to learn some Python today\")"
   ]
  },
  {
   "cell_type": "code",
   "execution_count": 12,
   "id": "e18de00e",
   "metadata": {},
   "outputs": [
    {
     "name": "stdout",
     "output_type": "stream",
     "text": [
      "Albert Einstein once said, “A person who never made a mistake never tried anything new.” \n"
     ]
    }
   ],
   "source": [
    "print('Albert Einstein once said, “A person who never made a mistake never tried anything new.” ')"
   ]
  },
  {
   "cell_type": "code",
   "execution_count": 14,
   "id": "0ca33556",
   "metadata": {},
   "outputs": [
    {
     "name": "stdout",
     "output_type": "stream",
     "text": [
      "Dusyat said Hello\n"
     ]
    }
   ],
   "source": [
    "famousPerson = \"Dusyat\"\n",
    "message = famousPerson + \" said \" + \"Hello\"\n",
    "\n",
    "print(message)"
   ]
  },
  {
   "cell_type": "code",
   "execution_count": 22,
   "id": "73dc5b36",
   "metadata": {},
   "outputs": [
    {
     "name": "stdout",
     "output_type": "stream",
     "text": [
      "8\n",
      "8\n",
      "8\n",
      "8\n"
     ]
    }
   ],
   "source": [
    "# chaar baar 8 print karata h\n",
    "print(6+2)\n",
    "print(10-2)\n",
    "print(4*2)\n",
    "print(16//2)"
   ]
  },
  {
   "cell_type": "code",
   "execution_count": 20,
   "id": "101adf02",
   "metadata": {},
   "outputs": [
    {
     "name": "stdout",
     "output_type": "stream",
     "text": [
      "My fav number is  10\n"
     ]
    }
   ],
   "source": [
    "y=10\n",
    "print(\"My fav number is \" , y)"
   ]
  },
  {
   "cell_type": "code",
   "execution_count": 23,
   "id": "b2e2edb7",
   "metadata": {},
   "outputs": [
    {
     "name": "stdout",
     "output_type": "stream",
     "text": [
      "8\n",
      "8\n",
      "8\n",
      "8\n"
     ]
    }
   ],
   "source": [
    "#chaar baar 8 print karata h\n",
    "# Harish 17/09/2023\n",
    "print(6+2)\n",
    "print(10-2)\n",
    "print(4*2)\n",
    "print(16//2)"
   ]
  },
  {
   "cell_type": "code",
   "execution_count": 25,
   "id": "c2414df8",
   "metadata": {},
   "outputs": [
    {
     "name": "stdout",
     "output_type": "stream",
     "text": [
      "KSB\n",
      "Vivek\n",
      "Sonu\n",
      "Pappu\n"
     ]
    }
   ],
   "source": [
    "friends = [\"KSB\" , \"Vivek\" , \"Sonu\" , \"Pappu\"]\n",
    "\n",
    "print(friends[0])\n",
    "print(friends[1])\n",
    "print(friends[2])\n",
    "print(friends[3])"
   ]
  },
  {
   "cell_type": "code",
   "execution_count": 28,
   "id": "c5f2403e",
   "metadata": {},
   "outputs": [
    {
     "name": "stdout",
     "output_type": "stream",
     "text": [
      "KSB Hello ,  how are you ? \n",
      "Vivek Hello ,  how are you ? \n",
      "Sonu Hello ,  how are you ? \n",
      "Pappu Hello ,  how are you ? \n"
     ]
    }
   ],
   "source": [
    "friends = [\"KSB\" , \"Vivek\" , \"Sonu\" , \"Pappu\"]\n",
    "\n",
    "message = \" Hello ,  how are you ? \"\n",
    "\n",
    "\n",
    "print(friends[0] + message)\n",
    "print(friends[1] + message)\n",
    "print(friends[2] + message)\n",
    "print(friends[3] + message)\n"
   ]
  },
  {
   "cell_type": "code",
   "execution_count": 33,
   "id": "54de115e",
   "metadata": {},
   "outputs": [
    {
     "name": "stdout",
     "output_type": "stream",
     "text": [
      "I would like to own a Thar\n",
      "I would like to own a Alto\n",
      "I would like to own a Bullet\n"
     ]
    }
   ],
   "source": [
    "rides = [\"Alto\" , \"Thar\" , \"Bullet\"]\n",
    "\n",
    "message = \"I would like to own a \"\n",
    "\n",
    "print(message + rides[1])\n",
    "print(message + rides[0])\n",
    "print(message + rides[2])"
   ]
  }
 ],
 "metadata": {
  "kernelspec": {
   "display_name": "Python 3 (ipykernel)",
   "language": "python",
   "name": "python3"
  },
  "language_info": {
   "codemirror_mode": {
    "name": "ipython",
    "version": 3
   },
   "file_extension": ".py",
   "mimetype": "text/x-python",
   "name": "python",
   "nbconvert_exporter": "python",
   "pygments_lexer": "ipython3",
   "version": "3.11.4"
  }
 },
 "nbformat": 4,
 "nbformat_minor": 5
}
